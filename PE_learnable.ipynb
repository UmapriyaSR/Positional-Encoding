{
  "nbformat": 4,
  "nbformat_minor": 0,
  "metadata": {
    "colab": {
      "provenance": []
    },
    "kernelspec": {
      "name": "python3",
      "display_name": "Python 3"
    },
    "language_info": {
      "name": "python"
    }
  },
  "cells": [
    {
      "cell_type": "code",
      "source": [
        "# from google.colab import drive\n",
        "# drive.mount('/content/drive')\n"
      ],
      "metadata": {
        "id": "61HaZNhj1UJ3"
      },
      "execution_count": 32,
      "outputs": []
    },
    {
      "cell_type": "code",
      "execution_count": 33,
      "metadata": {
        "id": "KcnAZ61z0iGc"
      },
      "outputs": [],
      "source": [
        "import torch\n",
        "import torch.nn as nn\n",
        "import torch.optim as optim\n",
        "from torch.utils.data import DataLoader, TensorDataset\n",
        "import numpy as np\n",
        "from sklearn.metrics import accuracy_score"
      ]
    },
    {
      "cell_type": "code",
      "source": [
        "class PositionalEncoder(nn.Module):\n",
        "    def __init__(self, d_model, max_seq_len=1000):\n",
        "        super(PositionalEncoder, self).__init__()\n",
        "        self.d_model = d_model\n",
        "        self.max_seq_len = max_seq_len\n",
        "\n",
        "        # Learnable embeddings for positional encoding\n",
        "        self.pos_embedding = nn.Embedding(max_seq_len, d_model)\n",
        "\n",
        "    def forward(self, x):\n",
        "        # Generating a tensor of positional indices (0 to max_seq_len - 1)\n",
        "        position_indices = torch.arange(0, x.size(1)).unsqueeze(0).repeat(x.size(0), 1).to(x.device) #(32,100)\n",
        "\n",
        "        # Retrieve the positional encodings corresponding to these indices\n",
        "        pos_encode = self.pos_embedding(position_indices) #(32,100,128)\n",
        "\n",
        "        # Add positional encodings to input\n",
        "        x = x + pos_encode\n",
        "        return x"
      ],
      "metadata": {
        "id": "B9KDoHCh9Eka"
      },
      "execution_count": 34,
      "outputs": []
    },
    {
      "cell_type": "code",
      "source": [
        "# class PositionalEncoder(nn.Module):\n",
        "\n",
        "#     def __init__(self, d_model, max_sequence_length):\n",
        "#         super().__init__()\n",
        "#         self.max_sequence_length = max_sequence_length\n",
        "#         self.d_model = d_model\n",
        "\n",
        "#     def forward(self,x):\n",
        "#         even_i = torch.arange(0, self.d_model, 2).float()\n",
        "#         denominator = torch.pow(10000, even_i/self.d_model)\n",
        "#         position = torch.arange(self.max_sequence_length).reshape(self.max_sequence_length, 1)\n",
        "#         even_PE = torch.sin(position / denominator)\n",
        "#         odd_PE = torch.cos(position / denominator)\n",
        "#         stacked = torch.stack([even_PE, odd_PE], dim=2)\n",
        "#         PE = torch.flatten(stacked, start_dim=1, end_dim=2)\n",
        "#         PE = PE.unsqueeze(0).expand(x.size(0), -1, -1)\n",
        "#         x = x + PE\n",
        "#         return x"
      ],
      "metadata": {
        "id": "eyZiEPOagsxl"
      },
      "execution_count": 35,
      "outputs": []
    },
    {
      "cell_type": "code",
      "source": [
        "#Dummy dataset\n",
        "vocab_size = 10000\n",
        "embed_dim = 128\n",
        "hidden_dim = 256\n",
        "num_classes = 2\n",
        "max_seq_len = 100\n",
        "batch_size = 32\n",
        "\n",
        "seed = 45\n",
        "torch.manual_seed(seed)\n",
        "torch.cuda.manual_seed(seed)\n",
        "np.random.seed(seed)\n",
        "\n",
        "train_data = torch.randint(0, vocab_size, (1000, max_seq_len))\n",
        "train_labels = torch.randint(0, num_classes, (1000,))\n",
        "test_data = torch.randint(0, vocab_size, (200, max_seq_len))\n",
        "test_labels = torch.randint(0, num_classes, (200,))\n",
        "\n",
        "train_dataset = TensorDataset(train_data, train_labels)\n",
        "train_loader = DataLoader(train_dataset, batch_size=batch_size, shuffle=True)\n",
        "test_dataset = TensorDataset(test_data, test_labels)\n",
        "test_loader = DataLoader(test_dataset, batch_size=batch_size)\n",
        "\n",
        "class TextClassifier(nn.Module):\n",
        "    def __init__(self, vocab_size, embed_dim, hidden_dim, num_classes, max_seq_len):\n",
        "        super(TextClassifier, self).__init__()\n",
        "        self.embedding = nn.Embedding(vocab_size, embed_dim) # (32,100,128)\n",
        "        self.positional_encoder = PositionalEncoder(embed_dim, max_seq_len) #(32,100,128)\n",
        "        self.fc1 = nn.Linear(embed_dim, hidden_dim)\n",
        "        self.fc2 = nn.Linear(hidden_dim, num_classes) #\n",
        "\n",
        "    def forward(self, x):\n",
        "        x = self.embedding(x)  # Shape: [Batch, Seq, Embed]\n",
        "        #print(\"input with embedding :\", x.shape)#(32,100,128)\n",
        "        x = self.positional_encoder(x) #(32,100,128)\n",
        "        x = torch.mean(x, dim=1)  # Average pooling over sequence length #(32,128)\n",
        "        x = torch.relu(self.fc1(x)) #(32,256)\n",
        "        x = self.fc2(x) #(32,2)\n",
        "        return x"
      ],
      "metadata": {
        "id": "vOQOP7gNxVOi"
      },
      "execution_count": 40,
      "outputs": []
    },
    {
      "cell_type": "code",
      "source": [
        "\n",
        "#model and optimizer\n",
        "model = TextClassifier(vocab_size, embed_dim, hidden_dim, num_classes, max_seq_len)\n",
        "optimizer = optim.Adam(model.parameters(), lr=0.001)\n",
        "\n",
        "# Training loop\n",
        "num_epochs = 10\n",
        "for epoch in range(num_epochs):\n",
        "    model.train()\n",
        "    for batch_data, batch_labels in train_loader:\n",
        "        #print (\"batch data \",batch_data.shape)\n",
        "        optimizer.zero_grad()\n",
        "        predictions = model(batch_data)\n",
        "        loss = nn.CrossEntropyLoss()(predictions, batch_labels)\n",
        "        loss.backward()\n",
        "        optimizer.step()\n",
        "\n",
        "# Evaluation\n",
        "model.eval()\n",
        "all_predictions = []\n",
        "all_labels = []\n",
        "with torch.no_grad():\n",
        "    for batch_data, batch_labels in test_loader:\n",
        "        predictions = model(batch_data)\n",
        "        predicted_labels = torch.argmax(predictions, dim=1)\n",
        "        all_predictions.extend(predicted_labels.cpu().numpy())\n",
        "        all_labels.extend(batch_labels.cpu().numpy())\n",
        "\n",
        "# accuracy as the evaluation metric\n",
        "accuracy = accuracy_score(all_labels, all_predictions)\n",
        "print(f\"Accuracy: {accuracy * 100:.2f}%\")"
      ],
      "metadata": {
        "colab": {
          "base_uri": "https://localhost:8080/"
        },
        "id": "0REhs3NKfY1z",
        "outputId": "8451d881-a748-40a3-c352-348923dd586f"
      },
      "execution_count": 41,
      "outputs": [
        {
          "output_type": "stream",
          "name": "stdout",
          "text": [
            "Accuracy: 57.00%\n"
          ]
        }
      ]
    }
  ]
}